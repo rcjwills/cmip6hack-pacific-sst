{
 "cells": [
  {
   "cell_type": "markdown",
   "metadata": {},
   "source": [
    "## Simple East West SST Trend Analysis for CMIP6"
   ]
  },
  {
   "cell_type": "raw",
   "metadata": {},
   "source": [
    "This notebook is intended to compute some simple metrics on East West trend gradients in CMIP6!"
   ]
  },
  {
   "cell_type": "markdown",
   "metadata": {},
   "source": [
    "### Import packages"
   ]
  },
  {
   "cell_type": "code",
   "execution_count": 1,
   "metadata": {},
   "outputs": [
    {
     "name": "stderr",
     "output_type": "stream",
     "text": [
      "/ncar/usr/jupyterhub/envs/cmip6-201910a/lib/python3.7/site-packages/intake/source/discovery.py:136: FutureWarning: The drivers ['stac-catalog', 'stac-collection', 'stac-item'] do not specify entry_points and were only discovered via a package scan. This may break in a future release of intake. The packages should be updated.\n",
      "  FutureWarning)\n"
     ]
    }
   ],
   "source": [
    "import intake\n",
    "import pprint\n",
    "import numpy as np\n",
    "import util\n",
    "import warnings\n",
    "import xesmf as xe\n",
    "import xarray as xr\n",
    "import matplotlib.pyplot as plt\n",
    "from IPython.utils import io"
   ]
  },
  {
   "cell_type": "markdown",
   "metadata": {},
   "source": [
    "### Define some parameters"
   ]
  },
  {
   "cell_type": "code",
   "execution_count": 2,
   "metadata": {},
   "outputs": [],
   "source": [
    "# CMIP Metadata\n",
    "# These are defined as lists, but this code was written assuming one\n",
    "# value in several places\n",
    "var_ids = ['ts']  # variable to analyze\n",
    "exp_ids = ['historical']  # experiment to analyze\n",
    "table_ids = [\"Amon\"]  # table to use\n",
    "activity_ids = [\"CMIP\"]  # activity to use\n",
    "catalog_json_file = \"../catalogs/glade-cmip6.json\"  # catalog file\n",
    "\n",
    "# Analysis Options\n",
    "start_year = 1979  # start of analysis period\n",
    "end_year = 2014  # last year of analysis period\n",
    "west_lat_bounds = [-2.5, 2.5]  # western pacific box lat bounds\n",
    "west_lon_bounds = [117, 173]  # western pacific box lon bounds\n",
    "east_lat_bounds = [-2.5, 2.5]  # eastern pacific box lat bounds\n",
    "east_lon_bounds = [205, 275]  # eastern pacific box lon bounds\n",
    "reftime = 432  # number of time points expected\n",
    "\n",
    "# This is mainly for this notebook, where the warnings are distracting.\n",
    "# Show them once.\n",
    "# warnings.filterwarnings(action='once') # I think this didn't work\n",
    "warnings.filterwarnings('ignore')"
   ]
  },
  {
   "cell_type": "markdown",
   "metadata": {},
   "source": [
    "### Create target grid for trend maps"
   ]
  },
  {
   "cell_type": "code",
   "execution_count": 3,
   "metadata": {},
   "outputs": [],
   "source": [
    "ds_out = xr.Dataset({'lat': (['lat'], np.arange(-89., 90., 2.0)),\n",
    "                     'lon': (['lon'], np.arange(1., 360., 2.0)),\n",
    "                     }\n",
    "                    )"
   ]
  },
  {
   "cell_type": "markdown",
   "metadata": {},
   "source": [
    "### Search the catalog"
   ]
  },
  {
   "cell_type": "code",
   "execution_count": 4,
   "metadata": {},
   "outputs": [
    {
     "name": "stdout",
     "output_type": "stream",
     "text": [
      "{'experiment_id': {'count': 1, 'values': ['historical']},\n",
      " 'source_id': {'count': 26,\n",
      "               'values': ['CNRM-CM6-1', 'CNRM-ESM2-1', 'BCC-ESM1',\n",
      "                          'BCC-CSM2-MR', 'CESM2-WACCM', 'CESM2', 'FGOALS-g3',\n",
      "                          'SAM0-UNICON', 'UKESM1-0-LL', 'HadGEM3-GC31-LL',\n",
      "                          'GFDL-ESM4', 'GFDL-CM4', 'GISS-E2-1-H', 'GISS-E2-1-G',\n",
      "                          'CanESM5', 'E3SM-1-0', 'CAMS-CSM1-0', 'MCM-UA-1-0',\n",
      "                          'EC-Earth3', 'EC-Earth3-Veg', 'MRI-ESM2-0', 'NESM3',\n",
      "                          'MIROC-ES2L', 'MIROC6', 'IPSL-CM6A-LR',\n",
      "                          'NorESM2-LM']},\n",
      " 'table_id': {'count': 1, 'values': ['Amon']}}\n"
     ]
    }
   ],
   "source": [
    "col = intake.open_esm_datastore(catalog_json_file)\n",
    "cat = col.search(activity_id=activity_ids, experiment_id=exp_ids,\n",
    "                 variable_id=var_ids, table_id=table_ids)\n",
    "uni_dict = cat.unique(['source_id', 'experiment_id', 'table_id'])\n",
    "pprint.pprint(uni_dict, compact=True)"
   ]
  },
  {
   "cell_type": "markdown",
   "metadata": {},
   "source": [
    "### Get models"
   ]
  },
  {
   "cell_type": "code",
   "execution_count": 5,
   "metadata": {},
   "outputs": [
    {
     "name": "stdout",
     "output_type": "stream",
     "text": [
      "26 models in analysis\n"
     ]
    }
   ],
   "source": [
    "models = list(uni_dict['source_id'].values())[1]\n",
    "print(str(len(models)) + ' models in analysis')"
   ]
  },
  {
   "cell_type": "markdown",
   "metadata": {},
   "source": [
    "### Create CMIP6 dataset (loop over models and realizations)"
   ]
  },
  {
   "cell_type": "markdown",
   "metadata": {},
   "source": [
    "#### Pre-allocate some output "
   ]
  },
  {
   "cell_type": "code",
   "execution_count": 6,
   "metadata": {},
   "outputs": [],
   "source": [
    "trend_maps = xr.Dataset() # xarray dataset to store trend maps\n",
    "dataDict = {} # trend dictionary"
   ]
  },
  {
   "cell_type": "markdown",
   "metadata": {},
   "source": [
    "#### Loop over all datasets and compute box statistics and trend maps"
   ]
  },
  {
   "cell_type": "code",
   "execution_count": 7,
   "metadata": {},
   "outputs": [
    {
     "name": "stdout",
     "output_type": "stream",
     "text": [
      "CNRM-CM6-1 (1/26)\n",
      "..............\n",
      "CNRM-ESM2-1 (2/26)\n",
      ".....\n",
      "BCC-ESM1 (3/26)\n",
      "...\n",
      "BCC-CSM2-MR (4/26)\n",
      "...\n",
      "CESM2-WACCM (5/26)\n",
      "...\n",
      "CESM2 (6/26)\n",
      "...........\n",
      "FGOALS-g3 (7/26)\n",
      "...\n",
      "SAM0-UNICON (8/26)\n",
      ".\n",
      "UKESM1-0-LL (9/26)\n",
      ".........\n",
      "HadGEM3-GC31-LL (10/26)\n",
      "....\n",
      "GFDL-ESM4 (11/26)\n",
      ".\n",
      "GFDL-CM4 (12/26)\n",
      ".\n",
      "GISS-E2-1-H (13/26)\n",
      "..........\n",
      "GISS-E2-1-G (14/26)\n",
      "......................\n",
      "CanESM5 (15/26)\n",
      "............................................\n",
      "E3SM-1-0 (16/26)\n",
      ".....\n",
      "CAMS-CSM1-0 (17/26)\n",
      "..\n",
      "MCM-UA-1-0 (18/26)\n",
      ".\n",
      "EC-Earth3 (19/26)\n",
      "............\n",
      "EC-Earth3-Veg (20/26)\n",
      "....\n",
      "MRI-ESM2-0 (21/26)\n",
      ".....\n",
      "NESM3 (22/26)\n",
      "....\n",
      "MIROC-ES2L (23/26)\n",
      ".\n",
      "MIROC6 (24/26)\n",
      "..........\n",
      "IPSL-CM6A-LR (25/26)\n",
      "................................\n",
      "NorESM2-LM (26/26)\n",
      "...\n"
     ]
    }
   ],
   "source": [
    "# loop over all models\n",
    "for i, model in enumerate(models):\n",
    "    print(model + ' (' + str(i+1) + '/' + str(len(models)) + ')')\n",
    "    # get a catalog for each model (to determine what realizations\n",
    "    # are available for each model)\n",
    "    catModel = col.search(source_id=model, activity_id=activity_ids,\n",
    "                          experiment_id=exp_ids, variable_id=var_ids,\n",
    "                          table_id=table_ids);\n",
    "    uni_dict = catModel.unique(['source_id', 'experiment_id', 'table_id',\n",
    "                                'member_id'])\n",
    "    # get a list of the realizations\n",
    "    rips = list(uni_dict['member_id'].values())[1]\n",
    "    # loop over all realizations\n",
    "    for j, rip in enumerate(rips):\n",
    "        print('.', end='')\n",
    "        # get a catalog for one model / realization\n",
    "        catInner = col.search(source_id=model, member_id=rip,\n",
    "                              activity_id=activity_ids, experiment_id=exp_ids,\n",
    "                              variable_id=var_ids, table_id=table_ids);\n",
    "        # create a dataset\n",
    "        with io.capture_output() as captured:\n",
    "          ds = catInner.to_dataset_dict()\n",
    "        # get the key (there should just be one)\n",
    "        key = list(ds.keys())[0]\n",
    "        ds = ds[key] # subset the dataset\n",
    "        dsvar = ds[var_ids[0]].isel(member_id=0)  # select data for variable\n",
    "        # subset the time\n",
    "        dsvar = dsvar.sel(time=slice(str(start_year) + '-01-01',\n",
    "                                     str(end_year) + '-12-30'))\n",
    "        # make sure the dataset has the appropriate length (or skip)\n",
    "        if dsvar.shape[0] != reftime:\n",
    "            continue\n",
    "        # xESMF can't handle 'longitude' yet\n",
    "        # https://github.com/JiaweiZhuang/xESMF/issues/72\n",
    "        if 'longitude' in dsvar.dims:\n",
    "          dsvar = dsvar.rename({'latitude': 'lat'})\n",
    "          dsvar = dsvar.rename({'longitude': 'lon'})\n",
    "        # get trend map\n",
    "        trend_map = util.spatial_trends(dsvar)\n",
    "        # regrid to common grid\n",
    "        with io.capture_output() as captured:\n",
    "          regridder = xe.Regridder(trend_map, ds_out, 'bilinear', reuse_weights=True)\n",
    "        trend_regrid = regridder(trend_map)\n",
    "        # get spatial average trends (from trend maps)\n",
    "        m_west = util.simple_spatial_average(trend_regrid,\n",
    "                                             lat_bounds=west_lat_bounds,\n",
    "                                             lon_bounds=west_lon_bounds).item()\n",
    "        m_east = util.simple_spatial_average(trend_regrid,\n",
    "                                             lat_bounds=east_lat_bounds,\n",
    "                                             lon_bounds=east_lon_bounds).item()\n",
    "        m_tropics = util.simple_spatial_average(trend_regrid,\n",
    "                                                lat_bounds=[-30, 30]).item()\n",
    "        m_global = util.simple_spatial_average(trend_regrid).item()\n",
    "        # store data in dictionary\n",
    "        if model not in dataDict:\n",
    "          dataDict[model] = {}\n",
    "        dataDict[model][rip] = {'east': m_east, 'west': m_west, 'globe': m_global, 'tropics': m_tropics}\n",
    "        trend_maps[model + '_' + rip] = trend_regrid\n",
    "    print()"
   ]
  },
  {
   "cell_type": "markdown",
   "metadata": {},
   "source": [
    "### Get list of model trends in W-E gradient"
   ]
  },
  {
   "cell_type": "code",
   "execution_count": 8,
   "metadata": {},
   "outputs": [],
   "source": [
    "# Get array of E-W model trends\n",
    "model_grad = []\n",
    "for key in dataDict.keys():\n",
    "  for keyInner in dataDict[key].keys():\n",
    "    # get values from data dictionary\n",
    "    w = dataDict[key][keyInner]['west']\n",
    "    e = dataDict[key][keyInner]['east']\n",
    "    model_grad.append((w-e)*10)\n",
    "\n",
    "model_grad = np.array(model_grad) # cast to array"
   ]
  },
  {
   "cell_type": "markdown",
   "metadata": {},
   "source": [
    "### Get HadSST3 observations (pre-downloaded)"
   ]
  },
  {
   "cell_type": "code",
   "execution_count": 9,
   "metadata": {},
   "outputs": [],
   "source": [
    "# pre-allocate data\n",
    "had_obs = []\n",
    "\n",
    "# Loop over 100 realizations\n",
    "for i in range(1, 101):\n",
    "    # load data\n",
    "    ds = xr.load_dataset('../data/HadSST.3.1.1.0.anomalies.' + str(i) + '.nc')\n",
    "    dsvar = ds.sst.sel(time=slice(str(start_year) + '-01-01',\n",
    "                                  str(end_year) + '-12-30'))\n",
    "    time_decimal = util.get_decimal_time(dsvar)\n",
    "    # get west box time series (note larger bounds)\n",
    "    dsvar_west = dsvar.sel(longitude=slice(west_lon_bounds[0], west_lon_bounds[1]), latitude=slice(5, -5))\n",
    "    # simple average...\n",
    "    tsw = np.nanmean(np.nanmean(np.array(dsvar_west), axis=2), axis=1)\n",
    "    tsw = xr.DataArray(tsw, coords=[dsvar.time], dims=['time'])\n",
    "    tsw_anom = util.get_anomaly(tsw)\n",
    "    # get west trend\n",
    "    m_west = np.polyfit(time_decimal, np.array(tsw_anom), 1)[0]\n",
    "    # update boundaries to -180 - 180 longitude coordinates\n",
    "    eb1 = -180. + (east_lon_bounds[0] - 180.)\n",
    "    eb2 = -180. + (east_lon_bounds[1] - 180.)\n",
    "    # get east box time series (note larger bounds)\n",
    "    dsvar_east = dsvar.sel(longitude=slice(eb1, eb2), latitude=slice(5, -5))\n",
    "    # simple average...\n",
    "    tse = np.nanmean(np.nanmean(np.array(dsvar_east), axis=2), axis=1)\n",
    "    tse = xr.DataArray(tse, coords=[dsvar.time], dims=['time'])\n",
    "    tse_anom = util.get_anomaly(tse)\n",
    "    # get east trend\n",
    "    m_east = np.polyfit(time_decimal, np.array(tse_anom), 1)[0]\n",
    "    had_obs.append((m_west - m_east)*10)"
   ]
  },
  {
   "cell_type": "markdown",
   "metadata": {},
   "source": [
    "### Use Opendap to get ERSST, COBE, HadISST"
   ]
  },
  {
   "cell_type": "code",
   "execution_count": 10,
   "metadata": {},
   "outputs": [],
   "source": [
    "ds = xr.open_dataset('http://www.esrl.noaa.gov/psd/thredds/dodsC/Datasets/noaa.ersst.v5/sst.mnmean.nc')\n",
    "dsvar = ds.sst\n",
    "dsvar = dsvar.sel(time=slice('1979-01-01', '2014-12-31'))\n",
    "trend_map = util.spatial_trends(dsvar)\n",
    "m_west_ersst = util.simple_spatial_average(trend_map,\n",
    "                                     lat_bounds=west_lat_bounds,\n",
    "                                     lon_bounds=west_lon_bounds).item()\n",
    "m_east_ersst = util.simple_spatial_average(trend_map,\n",
    "                                     lat_bounds=east_lat_bounds,\n",
    "                                     lon_bounds=east_lon_bounds).item()\n",
    "ds.close()\n",
    "\n",
    "ds = xr.open_dataset('http://www.esrl.noaa.gov/psd/thredds/dodsC/Datasets/COBE2/sst.mon.mean.nc')\n",
    "dsvar = ds.sst\n",
    "dsvar = dsvar.sel(time=slice('1979-01-01', '2014-12-31'))\n",
    "trend_map = util.spatial_trends(dsvar)\n",
    "m_west_cobe = util.simple_spatial_average(trend_map,\n",
    "                                     lat_bounds=west_lat_bounds,\n",
    "                                     lon_bounds=west_lon_bounds).item()\n",
    "m_east_cobe = util.simple_spatial_average(trend_map,\n",
    "                                     lat_bounds=east_lat_bounds,\n",
    "                                     lon_bounds=east_lon_bounds).item()\n",
    "ds.close()\n",
    "\n",
    "# For some reason this isn't working with xarray\n",
    "# ds = xr.open_dataset('https://oceanwatch.pfeg.noaa.gov/thredds/dodsC/HadleyCenter/HadISST')\n",
    "# dsvar = ds.sst\n",
    "# dsvar = dsvar.sel(time=slice('1979-01-01', '2014-12-31'))\n",
    "# trend_map = util.spatial_trends(dsvar)\n",
    "# m_west_hadisst = util.simple_spatial_average(trend_map,\n",
    "#                                      lat_bounds=west_lat_bounds,\n",
    "#                                      lon_bounds=west_lon_bounds).item()\n",
    "# m_east_hadisst = util.simple_spatial_average(trend_map,\n",
    "#                                      lat_bounds=east_lat_bounds,\n",
    "#                                      lon_bounds=east_lon_bounds).item()\n",
    "# ds.close()"
   ]
  },
  {
   "cell_type": "markdown",
   "metadata": {},
   "source": [
    "### Create a box plot of the contrast in E-W trends"
   ]
  },
  {
   "cell_type": "code",
   "execution_count": 11,
   "metadata": {},
   "outputs": [
    {
     "data": {
      "image/png": "[encoded data removed]",
      "text/plain": [
       "<Figure size 432x288 with 1 Axes>"
      ]
     },
     "metadata": {
      "needs_background": "light"
     },
     "output_type": "display_data"
    }
   ],
   "source": [
    "# Plot data\n",
    "plt.boxplot(model_grad, sym='.', notch=True, patch_artist=True, boxprops=dict(facecolor='blue', color='blue'), medianprops=dict(color='blue'))\n",
    "plt.boxplot(had_obs, notch=True, patch_artist=True, boxprops=dict(facecolor='red', color='red'), medianprops=dict(color='red'))\n",
    "plt.scatter(1, (m_west_ersst - m_east_ersst)*10, color='g')\n",
    "plt.scatter(1, (m_west_cobe - m_east_cobe)*10, color='m')\n",
    "# plt.scatter(1, (m_west_hadisst - m_east_hadisst)*10, color='pink')\n",
    "plt.text(0.3, 0.1, 'CMIP6 (n=' + str(len(model_grad)) + ')', color='b')\n",
    "plt.text(0.3, 0.07, 'HadSST3 (n=100)', color='r')\n",
    "plt.text(0.3, 0.04, 'ERSST5', color='g')\n",
    "plt.text(0.3, 0.01, 'COBE2', color='m')\n",
    "# plt.text(0.3, -0.02, 'HadISST1', color='pink')\n",
    "plt.xlabel('West minus East Pacific Trends \\n (1979 - 2014)')\n",
    "plt.ylabel('Trend [K / decade]')\n",
    "plt.xticks([])\n",
    "plt.xlim(0.2, 1.4)\n",
    "plt.savefig('trend_distribution.pdf', bbox_inches='tight')\n",
    "plt.show()"
   ]
  }
 ],
 "metadata": {
  "kernelspec": {
   "display_name": "CMIP6 2019.10a",
   "language": "python",
   "name": "cmip6-201910a"
  },
  "language_info": {
   "codemirror_mode": {
    "name": "ipython",
    "version": 3
   },
   "file_extension": ".py",
   "mimetype": "text/x-python",
   "name": "python",
   "nbconvert_exporter": "python",
   "pygments_lexer": "ipython3",
   "version": "3.7.3"
  }
 },
 "nbformat": 4,
 "nbformat_minor": 4
}
